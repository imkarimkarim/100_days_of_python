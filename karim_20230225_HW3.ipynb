{
  "nbformat": 4,
  "nbformat_minor": 0,
  "metadata": {
    "colab": {
      "provenance": []
    },
    "kernelspec": {
      "name": "python3",
      "display_name": "Python 3"
    },
    "language_info": {
      "name": "python"
    }
  },
  "cells": [
    {
      "cell_type": "markdown",
      "source": [
        "Homework3 - BMI"
      ],
      "metadata": {
        "id": "BpoM5T14YFIc"
      }
    },
    {
      "cell_type": "code",
      "execution_count": null,
      "metadata": {
        "id": "LEQUjxeQX_Zn"
      },
      "outputs": [],
      "source": [
        "h = float(input(\"What is your height in cm? \"))\n",
        "w = float(input(\"What is your weight in kg? \"))\n",
        "\n",
        "# height in meter\n",
        "hm = h / 100\n",
        "\n",
        "bmi = w / (hm ** 2)\n",
        "print(\"Your BMI is:\", round(bmi, 2))\n"
      ]
    }
  ]
}