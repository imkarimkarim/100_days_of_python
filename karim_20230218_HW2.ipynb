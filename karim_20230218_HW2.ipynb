{
  "nbformat": 4,
  "nbformat_minor": 0,
  "metadata": {
    "colab": {
      "provenance": []
    },
    "kernelspec": {
      "name": "python3",
      "display_name": "Python 3"
    },
    "language_info": {
      "name": "python"
    }
  },
  "cells": [
    {
      "cell_type": "markdown",
      "source": [
        "Debugging codes"
      ],
      "metadata": {
        "id": "6IFue8aMJ7a_"
      }
    },
    {
      "cell_type": "code",
      "execution_count": null,
      "metadata": {
        "id": "1l71MS_oI0tm"
      },
      "outputs": [],
      "source": [
        "print(\"Day 1 - String Manipulation\")\n",
        "print(\"String Concatenation is done with the \"+\" sign.\")\n",
        "print('e.g. print(\"Hello World!\")')\n",
        "print((\"New lines can be created with a backslash and n\"))\n",
        "input(\"Hello World\\n\")"
      ]
    }
  ]
}