{
  "nbformat": 4,
  "nbformat_minor": 0,
  "metadata": {
    "colab": {
      "provenance": []
    },
    "kernelspec": {
      "name": "python3",
      "display_name": "Python 3"
    },
    "language_info": {
      "name": "python"
    }
  },
  "cells": [
    {
      "cell_type": "markdown",
      "source": [
        "Hello Milad"
      ],
      "metadata": {
        "id": "Hl9pPbjbh52Y"
      }
    },
    {
      "cell_type": "code",
      "execution_count": null,
      "metadata": {
        "colab": {
          "base_uri": "https://localhost:8080/"
        },
        "id": "0J4nOhrzlZ9j",
        "outputId": "03dc9238-21c5-4ceb-84da-ee5eadb078c8"
      },
      "outputs": [
        {
          "output_type": "stream",
          "name": "stdout",
          "text": [
            "This is my first code!\n"
          ]
        }
      ],
      "source": [
        "print('This is my first code!')"
      ]
    }
  ]
}